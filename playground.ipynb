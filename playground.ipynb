{
 "cells": [
  {
   "cell_type": "code",
   "execution_count": 7,
   "metadata": {},
   "outputs": [],
   "source": [
    "import os\n",
    "\n",
    "from pathlib import Path\n",
    "\n",
    "cwd = Path(os.getcwd())"
   ]
  },
  {
   "cell_type": "code",
   "execution_count": 8,
   "metadata": {},
   "outputs": [],
   "source": [
    "ifile = cwd / 'iodir/imem.txt'"
   ]
  },
  {
   "cell_type": "code",
   "execution_count": 10,
   "metadata": {},
   "outputs": [
    {
     "name": "stdout",
     "output_type": "stream",
     "text": [
      "00000000\n",
      "01000000\n",
      "00000001\n",
      "00000011\n",
      "00000000\n",
      "00100000\n",
      "10000001\n",
      "10110011\n",
      "00000000\n",
      "01000000\n",
      "00000001\n",
      "00000011\n",
      "00000000\n",
      "00100000\n",
      "10000001\n",
      "10110011\n",
      "00000000\n",
      "01000000\n",
      "00000001\n",
      "00000011\n",
      "00000000\n",
      "00100000\n",
      "10000001\n",
      "10110011\n",
      "00000000\n",
      "01000000\n",
      "00000001\n",
      "00000011\n",
      "00000000\n",
      "00100000\n",
      "10000001\n",
      "10110011\n",
      "00000000\n",
      "01000000\n",
      "00000001\n",
      "00000011\n",
      "00000000\n",
      "00100000\n",
      "10000001\n",
      "10110011\n",
      "11111111\n",
      "11111111\n",
      "11111111\n",
      "11111111\n"
     ]
    }
   ],
   "source": [
    "with open(ifile, 'r') as f:\n",
    "    lines = [line.strip() for line in f.readlines()]\n",
    "    for l in lines:\n",
    "        print(l)"
   ]
  },
  {
   "cell_type": "code",
   "execution_count": 13,
   "metadata": {},
   "outputs": [
    {
     "data": {
      "text/plain": [
       "'00000000010000000000000100000011'"
      ]
     },
     "execution_count": 13,
     "metadata": {},
     "output_type": "execute_result"
    }
   ],
   "source": [
    "''.join(lines[:4])"
   ]
  }
 ],
 "metadata": {
  "kernelspec": {
   "display_name": "fast-test",
   "language": "python",
   "name": "python3"
  },
  "language_info": {
   "codemirror_mode": {
    "name": "ipython",
    "version": 3
   },
   "file_extension": ".py",
   "mimetype": "text/x-python",
   "name": "python",
   "nbconvert_exporter": "python",
   "pygments_lexer": "ipython3",
   "version": "3.10.11"
  }
 },
 "nbformat": 4,
 "nbformat_minor": 2
}
